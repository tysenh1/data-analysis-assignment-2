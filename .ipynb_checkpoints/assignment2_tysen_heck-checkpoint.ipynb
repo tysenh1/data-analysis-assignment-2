{
 "cells": [
  {
   "cell_type": "markdown",
   "metadata": {},
   "source": [
    "# Module 2 Assignment\n",
    "\n",
    "## Data Importing, Cleaning, and Transforming\n",
    "\n",
    "This assignment's purpose is to gain experience importing, exploring, cleaning, and transforming data with pandas."
   ]
  },
  {
   "cell_type": "code",
   "execution_count": 3,
   "metadata": {},
   "outputs": [
    {
     "name": "stdout",
     "output_type": "stream",
     "text": [
      "First 5 rows of data:\n",
      "    order_id customer_name  order_date  total_amount    status     category  \\\n",
      "0      1000     Grace Lee  2022-12-27        290.94  shipped     Furniture   \n",
      "1      1001  David Wilson  2022-10-13        369.45   PENDING    furniture   \n",
      "2      1002  Henry Martin  2022-09-30        649.46   PENDING    furniture   \n",
      "3      1003    Emma Davis  2023-01-04        575.07   Pending       garden   \n",
      "4      1004     Grace Lee  2022-03-03        362.54   Shipped  electronics   \n",
      "\n",
      "  region priority  \n",
      "0  North   Medium  \n",
      "1  North      Low  \n",
      "2   West      Low  \n",
      "3   East      Low  \n",
      "4  South     High  \n"
     ]
    }
   ],
   "source": [
    "import pandas as pd\n",
    "\n",
    "data = pd.read_csv(\"./Dataset_for_Module_2_Assignment.csv\")\n",
    "\n",
    "print(f\"First 5 rows of data:\\n\", data.head())"
   ]
  }
 ],
 "metadata": {
  "kernelspec": {
   "display_name": "data-analysis-class",
   "language": "python",
   "name": "python3"
  },
  "language_info": {
   "codemirror_mode": {
    "name": "ipython",
    "version": 3
   },
   "file_extension": ".py",
   "mimetype": "text/x-python",
   "name": "python",
   "nbconvert_exporter": "python",
   "pygments_lexer": "ipython3",
   "version": "3.13.5"
  }
 },
 "nbformat": 4,
 "nbformat_minor": 2
}
