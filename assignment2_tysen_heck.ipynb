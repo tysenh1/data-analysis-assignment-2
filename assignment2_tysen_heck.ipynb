{
 "cells": [
  {
   "cell_type": "markdown",
   "metadata": {},
   "source": [
    "# Module 2 Assignment\n",
    "\n",
    "## Data Importing, Cleaning, and Transforming\n",
    "\n",
    "This assignment's purpose is to gain experience importing, exploring, cleaning, and transforming data with pandas."
   ]
  },
  {
   "cell_type": "markdown",
   "metadata": {},
   "source": [
    "### Task 2: Data Importing"
   ]
  },
  {
   "cell_type": "code",
   "execution_count": 10,
   "metadata": {},
   "outputs": [
    {
     "name": "stdout",
     "output_type": "stream",
     "text": [
      "First 5 rows of data:\n"
     ]
    },
    {
     "data": {
      "text/html": [
       "<div>\n",
       "<style scoped>\n",
       "    .dataframe tbody tr th:only-of-type {\n",
       "        vertical-align: middle;\n",
       "    }\n",
       "\n",
       "    .dataframe tbody tr th {\n",
       "        vertical-align: top;\n",
       "    }\n",
       "\n",
       "    .dataframe thead th {\n",
       "        text-align: right;\n",
       "    }\n",
       "</style>\n",
       "<table border=\"1\" class=\"dataframe\">\n",
       "  <thead>\n",
       "    <tr style=\"text-align: right;\">\n",
       "      <th></th>\n",
       "      <th>order_id</th>\n",
       "      <th>customer_name</th>\n",
       "      <th>order_date</th>\n",
       "      <th>total_amount</th>\n",
       "      <th>status</th>\n",
       "      <th>category</th>\n",
       "      <th>region</th>\n",
       "      <th>priority</th>\n",
       "    </tr>\n",
       "  </thead>\n",
       "  <tbody>\n",
       "    <tr>\n",
       "      <th>0</th>\n",
       "      <td>1000</td>\n",
       "      <td>Grace Lee</td>\n",
       "      <td>2022-12-27</td>\n",
       "      <td>290.94</td>\n",
       "      <td>shipped</td>\n",
       "      <td>Furniture</td>\n",
       "      <td>North</td>\n",
       "      <td>Medium</td>\n",
       "    </tr>\n",
       "    <tr>\n",
       "      <th>1</th>\n",
       "      <td>1001</td>\n",
       "      <td>David Wilson</td>\n",
       "      <td>2022-10-13</td>\n",
       "      <td>369.45</td>\n",
       "      <td>PENDING</td>\n",
       "      <td>furniture</td>\n",
       "      <td>North</td>\n",
       "      <td>Low</td>\n",
       "    </tr>\n",
       "    <tr>\n",
       "      <th>2</th>\n",
       "      <td>1002</td>\n",
       "      <td>Henry Martin</td>\n",
       "      <td>2022-09-30</td>\n",
       "      <td>649.46</td>\n",
       "      <td>PENDING</td>\n",
       "      <td>furniture</td>\n",
       "      <td>West</td>\n",
       "      <td>Low</td>\n",
       "    </tr>\n",
       "    <tr>\n",
       "      <th>3</th>\n",
       "      <td>1003</td>\n",
       "      <td>Emma Davis</td>\n",
       "      <td>2023-01-04</td>\n",
       "      <td>575.07</td>\n",
       "      <td>Pending</td>\n",
       "      <td>garden</td>\n",
       "      <td>East</td>\n",
       "      <td>Low</td>\n",
       "    </tr>\n",
       "    <tr>\n",
       "      <th>4</th>\n",
       "      <td>1004</td>\n",
       "      <td>Grace Lee</td>\n",
       "      <td>2022-03-03</td>\n",
       "      <td>362.54</td>\n",
       "      <td>Shipped</td>\n",
       "      <td>electronics</td>\n",
       "      <td>South</td>\n",
       "      <td>High</td>\n",
       "    </tr>\n",
       "  </tbody>\n",
       "</table>\n",
       "</div>"
      ],
      "text/plain": [
       "   order_id customer_name  order_date  total_amount    status     category  \\\n",
       "0      1000     Grace Lee  2022-12-27        290.94  shipped     Furniture   \n",
       "1      1001  David Wilson  2022-10-13        369.45   PENDING    furniture   \n",
       "2      1002  Henry Martin  2022-09-30        649.46   PENDING    furniture   \n",
       "3      1003    Emma Davis  2023-01-04        575.07   Pending       garden   \n",
       "4      1004     Grace Lee  2022-03-03        362.54   Shipped  electronics   \n",
       "\n",
       "  region priority  \n",
       "0  North   Medium  \n",
       "1  North      Low  \n",
       "2   West      Low  \n",
       "3   East      Low  \n",
       "4  South     High  "
      ]
     },
     "execution_count": 10,
     "metadata": {},
     "output_type": "execute_result"
    }
   ],
   "source": [
    "import pandas as pd\n",
    "\n",
    "# Loads the csv file\n",
    "data = pd.read_csv(\"./Dataset_for_Module_2_Assignment.csv\")\n",
    "\n",
    "df = pd.DataFrame(data)\n",
    "# Displays the first 5 rows of the data\n",
    "print(\"First 5 rows of data:\")\n",
    "df.head()"
   ]
  },
  {
   "cell_type": "code",
   "execution_count": 12,
   "metadata": {},
   "outputs": [
    {
     "name": "stdout",
     "output_type": "stream",
     "text": [
      "Shape of the data:\n"
     ]
    },
    {
     "data": {
      "text/plain": [
       "(502, 8)"
      ]
     },
     "execution_count": 12,
     "metadata": {},
     "output_type": "execute_result"
    }
   ],
   "source": [
    "print(\"Shape of the data:\")\n",
    "data.shape"
   ]
  },
  {
   "cell_type": "code",
   "execution_count": 22,
   "metadata": {},
   "outputs": [
    {
     "name": "stdout",
     "output_type": "stream",
     "text": [
      "Columns:\n",
      "order_id, customer_name, order_date, total_amount, status, category, region, priority\n",
      "\n",
      "Types:\n",
      "int64, object, object, float64, object, object, object, object\n"
     ]
    },
    {
     "data": {
      "text/plain": [
       "0      False\n",
       "1      False\n",
       "2      False\n",
       "3      False\n",
       "4      False\n",
       "       ...  \n",
       "497    False\n",
       "498    False\n",
       "499    False\n",
       "500    False\n",
       "501    False\n",
       "Length: 502, dtype: bool"
      ]
     },
     "execution_count": 22,
     "metadata": {},
     "output_type": "execute_result"
    }
   ],
   "source": [
    "# getting the columns from the csv file.\n",
    "columns = df.columns\n",
    "\n",
    "print(\"Columns:\")\n",
    "# Printing the columns in a comma-delimited list\n",
    "print(\", \".join(str(column) for column in columns))\n",
    "\n",
    "types = df.dtypes\n",
    "\n",
    "print(\"\\nTypes:\")\n",
    "# Printing the column types in a comma-delimited list\n",
    "print(\", \".join(str(type) for type in types))\n",
    "\n",
    "df.duplicated()\n",
    "\n"
   ]
  }
 ],
 "metadata": {
  "kernelspec": {
   "display_name": "Python [conda env:data-analysis-class]",
   "language": "python",
   "name": "conda-env-data-analysis-class-py"
  },
  "language_info": {
   "codemirror_mode": {
    "name": "ipython",
    "version": 3
   },
   "file_extension": ".py",
   "mimetype": "text/x-python",
   "name": "python",
   "nbconvert_exporter": "python",
   "pygments_lexer": "ipython3",
   "version": "3.13.5"
  }
 },
 "nbformat": 4,
 "nbformat_minor": 4
}
